{
  "nbformat": 4,
  "nbformat_minor": 0,
  "metadata": {
    "colab": {
      "provenance": [],
      "collapsed_sections": []
    },
    "kernelspec": {
      "name": "python3",
      "display_name": "Python 3"
    },
    "language_info": {
      "name": "python"
    },
    "widgets": {
      "application/vnd.jupyter.widget-state+json": {
        "96ac481bf3844497b02bed92fe35b276": {
          "model_module": "@jupyter-widgets/controls",
          "model_name": "HBoxModel",
          "model_module_version": "1.5.0",
          "state": {
            "_dom_classes": [],
            "_model_module": "@jupyter-widgets/controls",
            "_model_module_version": "1.5.0",
            "_model_name": "HBoxModel",
            "_view_count": null,
            "_view_module": "@jupyter-widgets/controls",
            "_view_module_version": "1.5.0",
            "_view_name": "HBoxView",
            "box_style": "",
            "children": [
              "IPY_MODEL_e62959fb47cf448f97077243d81c02f5",
              "IPY_MODEL_fd9136a95d7640c1aa36b6881603750c",
              "IPY_MODEL_dfb950f6c96740db9ba7b9c8f3b0db8c"
            ],
            "layout": "IPY_MODEL_9a2a6fafa9e84179bbba054d533e1053"
          }
        },
        "e62959fb47cf448f97077243d81c02f5": {
          "model_module": "@jupyter-widgets/controls",
          "model_name": "HTMLModel",
          "model_module_version": "1.5.0",
          "state": {
            "_dom_classes": [],
            "_model_module": "@jupyter-widgets/controls",
            "_model_module_version": "1.5.0",
            "_model_name": "HTMLModel",
            "_view_count": null,
            "_view_module": "@jupyter-widgets/controls",
            "_view_module_version": "1.5.0",
            "_view_name": "HTMLView",
            "description": "",
            "description_tooltip": null,
            "layout": "IPY_MODEL_49d121a81c614377b61ab75ca20ec86e",
            "placeholder": "​",
            "style": "IPY_MODEL_0a398542b62d448cb18594bd6097a97a",
            "value": "100%"
          }
        },
        "fd9136a95d7640c1aa36b6881603750c": {
          "model_module": "@jupyter-widgets/controls",
          "model_name": "FloatProgressModel",
          "model_module_version": "1.5.0",
          "state": {
            "_dom_classes": [],
            "_model_module": "@jupyter-widgets/controls",
            "_model_module_version": "1.5.0",
            "_model_name": "FloatProgressModel",
            "_view_count": null,
            "_view_module": "@jupyter-widgets/controls",
            "_view_module_version": "1.5.0",
            "_view_name": "ProgressView",
            "bar_style": "success",
            "description": "",
            "description_tooltip": null,
            "layout": "IPY_MODEL_ca0b7d1a70da4edbbda7108d56108764",
            "max": 18165135,
            "min": 0,
            "orientation": "horizontal",
            "style": "IPY_MODEL_3b2ee6fa4a8d424cafbe49626cc25d83",
            "value": 18165135
          }
        },
        "dfb950f6c96740db9ba7b9c8f3b0db8c": {
          "model_module": "@jupyter-widgets/controls",
          "model_name": "HTMLModel",
          "model_module_version": "1.5.0",
          "state": {
            "_dom_classes": [],
            "_model_module": "@jupyter-widgets/controls",
            "_model_module_version": "1.5.0",
            "_model_name": "HTMLModel",
            "_view_count": null,
            "_view_module": "@jupyter-widgets/controls",
            "_view_module_version": "1.5.0",
            "_view_name": "HTMLView",
            "description": "",
            "description_tooltip": null,
            "layout": "IPY_MODEL_b893707fed864d10bf1b2ca97d24874c",
            "placeholder": "​",
            "style": "IPY_MODEL_41e0f3b286214315923c9a57b2f72ff8",
            "value": " 18165135/18165135 [00:09&lt;00:00, 1802098.30it/s]"
          }
        },
        "9a2a6fafa9e84179bbba054d533e1053": {
          "model_module": "@jupyter-widgets/base",
          "model_name": "LayoutModel",
          "model_module_version": "1.2.0",
          "state": {
            "_model_module": "@jupyter-widgets/base",
            "_model_module_version": "1.2.0",
            "_model_name": "LayoutModel",
            "_view_count": null,
            "_view_module": "@jupyter-widgets/base",
            "_view_module_version": "1.2.0",
            "_view_name": "LayoutView",
            "align_content": null,
            "align_items": null,
            "align_self": null,
            "border": null,
            "bottom": null,
            "display": null,
            "flex": null,
            "flex_flow": null,
            "grid_area": null,
            "grid_auto_columns": null,
            "grid_auto_flow": null,
            "grid_auto_rows": null,
            "grid_column": null,
            "grid_gap": null,
            "grid_row": null,
            "grid_template_areas": null,
            "grid_template_columns": null,
            "grid_template_rows": null,
            "height": null,
            "justify_content": null,
            "justify_items": null,
            "left": null,
            "margin": null,
            "max_height": null,
            "max_width": null,
            "min_height": null,
            "min_width": null,
            "object_fit": null,
            "object_position": null,
            "order": null,
            "overflow": null,
            "overflow_x": null,
            "overflow_y": null,
            "padding": null,
            "right": null,
            "top": null,
            "visibility": null,
            "width": null
          }
        },
        "49d121a81c614377b61ab75ca20ec86e": {
          "model_module": "@jupyter-widgets/base",
          "model_name": "LayoutModel",
          "model_module_version": "1.2.0",
          "state": {
            "_model_module": "@jupyter-widgets/base",
            "_model_module_version": "1.2.0",
            "_model_name": "LayoutModel",
            "_view_count": null,
            "_view_module": "@jupyter-widgets/base",
            "_view_module_version": "1.2.0",
            "_view_name": "LayoutView",
            "align_content": null,
            "align_items": null,
            "align_self": null,
            "border": null,
            "bottom": null,
            "display": null,
            "flex": null,
            "flex_flow": null,
            "grid_area": null,
            "grid_auto_columns": null,
            "grid_auto_flow": null,
            "grid_auto_rows": null,
            "grid_column": null,
            "grid_gap": null,
            "grid_row": null,
            "grid_template_areas": null,
            "grid_template_columns": null,
            "grid_template_rows": null,
            "height": null,
            "justify_content": null,
            "justify_items": null,
            "left": null,
            "margin": null,
            "max_height": null,
            "max_width": null,
            "min_height": null,
            "min_width": null,
            "object_fit": null,
            "object_position": null,
            "order": null,
            "overflow": null,
            "overflow_x": null,
            "overflow_y": null,
            "padding": null,
            "right": null,
            "top": null,
            "visibility": null,
            "width": null
          }
        },
        "0a398542b62d448cb18594bd6097a97a": {
          "model_module": "@jupyter-widgets/controls",
          "model_name": "DescriptionStyleModel",
          "model_module_version": "1.5.0",
          "state": {
            "_model_module": "@jupyter-widgets/controls",
            "_model_module_version": "1.5.0",
            "_model_name": "DescriptionStyleModel",
            "_view_count": null,
            "_view_module": "@jupyter-widgets/base",
            "_view_module_version": "1.2.0",
            "_view_name": "StyleView",
            "description_width": ""
          }
        },
        "ca0b7d1a70da4edbbda7108d56108764": {
          "model_module": "@jupyter-widgets/base",
          "model_name": "LayoutModel",
          "model_module_version": "1.2.0",
          "state": {
            "_model_module": "@jupyter-widgets/base",
            "_model_module_version": "1.2.0",
            "_model_name": "LayoutModel",
            "_view_count": null,
            "_view_module": "@jupyter-widgets/base",
            "_view_module_version": "1.2.0",
            "_view_name": "LayoutView",
            "align_content": null,
            "align_items": null,
            "align_self": null,
            "border": null,
            "bottom": null,
            "display": null,
            "flex": null,
            "flex_flow": null,
            "grid_area": null,
            "grid_auto_columns": null,
            "grid_auto_flow": null,
            "grid_auto_rows": null,
            "grid_column": null,
            "grid_gap": null,
            "grid_row": null,
            "grid_template_areas": null,
            "grid_template_columns": null,
            "grid_template_rows": null,
            "height": null,
            "justify_content": null,
            "justify_items": null,
            "left": null,
            "margin": null,
            "max_height": null,
            "max_width": null,
            "min_height": null,
            "min_width": null,
            "object_fit": null,
            "object_position": null,
            "order": null,
            "overflow": null,
            "overflow_x": null,
            "overflow_y": null,
            "padding": null,
            "right": null,
            "top": null,
            "visibility": null,
            "width": null
          }
        },
        "3b2ee6fa4a8d424cafbe49626cc25d83": {
          "model_module": "@jupyter-widgets/controls",
          "model_name": "ProgressStyleModel",
          "model_module_version": "1.5.0",
          "state": {
            "_model_module": "@jupyter-widgets/controls",
            "_model_module_version": "1.5.0",
            "_model_name": "ProgressStyleModel",
            "_view_count": null,
            "_view_module": "@jupyter-widgets/base",
            "_view_module_version": "1.2.0",
            "_view_name": "StyleView",
            "bar_color": null,
            "description_width": ""
          }
        },
        "b893707fed864d10bf1b2ca97d24874c": {
          "model_module": "@jupyter-widgets/base",
          "model_name": "LayoutModel",
          "model_module_version": "1.2.0",
          "state": {
            "_model_module": "@jupyter-widgets/base",
            "_model_module_version": "1.2.0",
            "_model_name": "LayoutModel",
            "_view_count": null,
            "_view_module": "@jupyter-widgets/base",
            "_view_module_version": "1.2.0",
            "_view_name": "LayoutView",
            "align_content": null,
            "align_items": null,
            "align_self": null,
            "border": null,
            "bottom": null,
            "display": null,
            "flex": null,
            "flex_flow": null,
            "grid_area": null,
            "grid_auto_columns": null,
            "grid_auto_flow": null,
            "grid_auto_rows": null,
            "grid_column": null,
            "grid_gap": null,
            "grid_row": null,
            "grid_template_areas": null,
            "grid_template_columns": null,
            "grid_template_rows": null,
            "height": null,
            "justify_content": null,
            "justify_items": null,
            "left": null,
            "margin": null,
            "max_height": null,
            "max_width": null,
            "min_height": null,
            "min_width": null,
            "object_fit": null,
            "object_position": null,
            "order": null,
            "overflow": null,
            "overflow_x": null,
            "overflow_y": null,
            "padding": null,
            "right": null,
            "top": null,
            "visibility": null,
            "width": null
          }
        },
        "41e0f3b286214315923c9a57b2f72ff8": {
          "model_module": "@jupyter-widgets/controls",
          "model_name": "DescriptionStyleModel",
          "model_module_version": "1.5.0",
          "state": {
            "_model_module": "@jupyter-widgets/controls",
            "_model_module_version": "1.5.0",
            "_model_name": "DescriptionStyleModel",
            "_view_count": null,
            "_view_module": "@jupyter-widgets/base",
            "_view_module_version": "1.2.0",
            "_view_name": "StyleView",
            "description_width": ""
          }
        },
        "b04af0496ab14cafa5d4ca492de6ff50": {
          "model_module": "@jupyter-widgets/controls",
          "model_name": "HBoxModel",
          "model_module_version": "1.5.0",
          "state": {
            "_dom_classes": [],
            "_model_module": "@jupyter-widgets/controls",
            "_model_module_version": "1.5.0",
            "_model_name": "HBoxModel",
            "_view_count": null,
            "_view_module": "@jupyter-widgets/controls",
            "_view_module_version": "1.5.0",
            "_view_name": "HBoxView",
            "box_style": "",
            "children": [
              "IPY_MODEL_ee707e224a374625ad8300010b529f31",
              "IPY_MODEL_95f3c131afe6408e80c088a9f377ab3c",
              "IPY_MODEL_8cfdb2a3eaf741d89598962c7a8b5654"
            ],
            "layout": "IPY_MODEL_3052035ea33a4b33aaa2aae9755bcfb6"
          }
        },
        "ee707e224a374625ad8300010b529f31": {
          "model_module": "@jupyter-widgets/controls",
          "model_name": "HTMLModel",
          "model_module_version": "1.5.0",
          "state": {
            "_dom_classes": [],
            "_model_module": "@jupyter-widgets/controls",
            "_model_module_version": "1.5.0",
            "_model_name": "HTMLModel",
            "_view_count": null,
            "_view_module": "@jupyter-widgets/controls",
            "_view_module_version": "1.5.0",
            "_view_name": "HTMLView",
            "description": "",
            "description_tooltip": null,
            "layout": "IPY_MODEL_593c7e51cdbf46f19251589e5fd81100",
            "placeholder": "​",
            "style": "IPY_MODEL_d91cf4fbe24d4aa4b66a40b5e7ee58ea",
            "value": "100%"
          }
        },
        "95f3c131afe6408e80c088a9f377ab3c": {
          "model_module": "@jupyter-widgets/controls",
          "model_name": "FloatProgressModel",
          "model_module_version": "1.5.0",
          "state": {
            "_dom_classes": [],
            "_model_module": "@jupyter-widgets/controls",
            "_model_module_version": "1.5.0",
            "_model_name": "FloatProgressModel",
            "_view_count": null,
            "_view_module": "@jupyter-widgets/controls",
            "_view_module_version": "1.5.0",
            "_view_name": "ProgressView",
            "bar_style": "success",
            "description": "",
            "description_tooltip": null,
            "layout": "IPY_MODEL_3b5288617c144be790b66ab1b32b1c16",
            "max": 29497,
            "min": 0,
            "orientation": "horizontal",
            "style": "IPY_MODEL_9426d3607dbc4a67843e4c3c906ca3f8",
            "value": 29497
          }
        },
        "8cfdb2a3eaf741d89598962c7a8b5654": {
          "model_module": "@jupyter-widgets/controls",
          "model_name": "HTMLModel",
          "model_module_version": "1.5.0",
          "state": {
            "_dom_classes": [],
            "_model_module": "@jupyter-widgets/controls",
            "_model_module_version": "1.5.0",
            "_model_name": "HTMLModel",
            "_view_count": null,
            "_view_module": "@jupyter-widgets/controls",
            "_view_module_version": "1.5.0",
            "_view_name": "HTMLView",
            "description": "",
            "description_tooltip": null,
            "layout": "IPY_MODEL_3a2e3ffb4ce74bb799a77b91ab446dd7",
            "placeholder": "​",
            "style": "IPY_MODEL_8e28a2b3f335431da04ee54527e59d56",
            "value": " 29497/29497 [00:00&lt;00:00, 321059.68it/s]"
          }
        },
        "3052035ea33a4b33aaa2aae9755bcfb6": {
          "model_module": "@jupyter-widgets/base",
          "model_name": "LayoutModel",
          "model_module_version": "1.2.0",
          "state": {
            "_model_module": "@jupyter-widgets/base",
            "_model_module_version": "1.2.0",
            "_model_name": "LayoutModel",
            "_view_count": null,
            "_view_module": "@jupyter-widgets/base",
            "_view_module_version": "1.2.0",
            "_view_name": "LayoutView",
            "align_content": null,
            "align_items": null,
            "align_self": null,
            "border": null,
            "bottom": null,
            "display": null,
            "flex": null,
            "flex_flow": null,
            "grid_area": null,
            "grid_auto_columns": null,
            "grid_auto_flow": null,
            "grid_auto_rows": null,
            "grid_column": null,
            "grid_gap": null,
            "grid_row": null,
            "grid_template_areas": null,
            "grid_template_columns": null,
            "grid_template_rows": null,
            "height": null,
            "justify_content": null,
            "justify_items": null,
            "left": null,
            "margin": null,
            "max_height": null,
            "max_width": null,
            "min_height": null,
            "min_width": null,
            "object_fit": null,
            "object_position": null,
            "order": null,
            "overflow": null,
            "overflow_x": null,
            "overflow_y": null,
            "padding": null,
            "right": null,
            "top": null,
            "visibility": null,
            "width": null
          }
        },
        "593c7e51cdbf46f19251589e5fd81100": {
          "model_module": "@jupyter-widgets/base",
          "model_name": "LayoutModel",
          "model_module_version": "1.2.0",
          "state": {
            "_model_module": "@jupyter-widgets/base",
            "_model_module_version": "1.2.0",
            "_model_name": "LayoutModel",
            "_view_count": null,
            "_view_module": "@jupyter-widgets/base",
            "_view_module_version": "1.2.0",
            "_view_name": "LayoutView",
            "align_content": null,
            "align_items": null,
            "align_self": null,
            "border": null,
            "bottom": null,
            "display": null,
            "flex": null,
            "flex_flow": null,
            "grid_area": null,
            "grid_auto_columns": null,
            "grid_auto_flow": null,
            "grid_auto_rows": null,
            "grid_column": null,
            "grid_gap": null,
            "grid_row": null,
            "grid_template_areas": null,
            "grid_template_columns": null,
            "grid_template_rows": null,
            "height": null,
            "justify_content": null,
            "justify_items": null,
            "left": null,
            "margin": null,
            "max_height": null,
            "max_width": null,
            "min_height": null,
            "min_width": null,
            "object_fit": null,
            "object_position": null,
            "order": null,
            "overflow": null,
            "overflow_x": null,
            "overflow_y": null,
            "padding": null,
            "right": null,
            "top": null,
            "visibility": null,
            "width": null
          }
        },
        "d91cf4fbe24d4aa4b66a40b5e7ee58ea": {
          "model_module": "@jupyter-widgets/controls",
          "model_name": "DescriptionStyleModel",
          "model_module_version": "1.5.0",
          "state": {
            "_model_module": "@jupyter-widgets/controls",
            "_model_module_version": "1.5.0",
            "_model_name": "DescriptionStyleModel",
            "_view_count": null,
            "_view_module": "@jupyter-widgets/base",
            "_view_module_version": "1.2.0",
            "_view_name": "StyleView",
            "description_width": ""
          }
        },
        "3b5288617c144be790b66ab1b32b1c16": {
          "model_module": "@jupyter-widgets/base",
          "model_name": "LayoutModel",
          "model_module_version": "1.2.0",
          "state": {
            "_model_module": "@jupyter-widgets/base",
            "_model_module_version": "1.2.0",
            "_model_name": "LayoutModel",
            "_view_count": null,
            "_view_module": "@jupyter-widgets/base",
            "_view_module_version": "1.2.0",
            "_view_name": "LayoutView",
            "align_content": null,
            "align_items": null,
            "align_self": null,
            "border": null,
            "bottom": null,
            "display": null,
            "flex": null,
            "flex_flow": null,
            "grid_area": null,
            "grid_auto_columns": null,
            "grid_auto_flow": null,
            "grid_auto_rows": null,
            "grid_column": null,
            "grid_gap": null,
            "grid_row": null,
            "grid_template_areas": null,
            "grid_template_columns": null,
            "grid_template_rows": null,
            "height": null,
            "justify_content": null,
            "justify_items": null,
            "left": null,
            "margin": null,
            "max_height": null,
            "max_width": null,
            "min_height": null,
            "min_width": null,
            "object_fit": null,
            "object_position": null,
            "order": null,
            "overflow": null,
            "overflow_x": null,
            "overflow_y": null,
            "padding": null,
            "right": null,
            "top": null,
            "visibility": null,
            "width": null
          }
        },
        "9426d3607dbc4a67843e4c3c906ca3f8": {
          "model_module": "@jupyter-widgets/controls",
          "model_name": "ProgressStyleModel",
          "model_module_version": "1.5.0",
          "state": {
            "_model_module": "@jupyter-widgets/controls",
            "_model_module_version": "1.5.0",
            "_model_name": "ProgressStyleModel",
            "_view_count": null,
            "_view_module": "@jupyter-widgets/base",
            "_view_module_version": "1.2.0",
            "_view_name": "StyleView",
            "bar_color": null,
            "description_width": ""
          }
        },
        "3a2e3ffb4ce74bb799a77b91ab446dd7": {
          "model_module": "@jupyter-widgets/base",
          "model_name": "LayoutModel",
          "model_module_version": "1.2.0",
          "state": {
            "_model_module": "@jupyter-widgets/base",
            "_model_module_version": "1.2.0",
            "_model_name": "LayoutModel",
            "_view_count": null,
            "_view_module": "@jupyter-widgets/base",
            "_view_module_version": "1.2.0",
            "_view_name": "LayoutView",
            "align_content": null,
            "align_items": null,
            "align_self": null,
            "border": null,
            "bottom": null,
            "display": null,
            "flex": null,
            "flex_flow": null,
            "grid_area": null,
            "grid_auto_columns": null,
            "grid_auto_flow": null,
            "grid_auto_rows": null,
            "grid_column": null,
            "grid_gap": null,
            "grid_row": null,
            "grid_template_areas": null,
            "grid_template_columns": null,
            "grid_template_rows": null,
            "height": null,
            "justify_content": null,
            "justify_items": null,
            "left": null,
            "margin": null,
            "max_height": null,
            "max_width": null,
            "min_height": null,
            "min_width": null,
            "object_fit": null,
            "object_position": null,
            "order": null,
            "overflow": null,
            "overflow_x": null,
            "overflow_y": null,
            "padding": null,
            "right": null,
            "top": null,
            "visibility": null,
            "width": null
          }
        },
        "8e28a2b3f335431da04ee54527e59d56": {
          "model_module": "@jupyter-widgets/controls",
          "model_name": "DescriptionStyleModel",
          "model_module_version": "1.5.0",
          "state": {
            "_model_module": "@jupyter-widgets/controls",
            "_model_module_version": "1.5.0",
            "_model_name": "DescriptionStyleModel",
            "_view_count": null,
            "_view_module": "@jupyter-widgets/base",
            "_view_module_version": "1.2.0",
            "_view_name": "StyleView",
            "description_width": ""
          }
        },
        "9f09bd6aa2b34a1cbdba657a483e4c7a": {
          "model_module": "@jupyter-widgets/controls",
          "model_name": "HBoxModel",
          "model_module_version": "1.5.0",
          "state": {
            "_dom_classes": [],
            "_model_module": "@jupyter-widgets/controls",
            "_model_module_version": "1.5.0",
            "_model_name": "HBoxModel",
            "_view_count": null,
            "_view_module": "@jupyter-widgets/controls",
            "_view_module_version": "1.5.0",
            "_view_name": "HBoxView",
            "box_style": "",
            "children": [
              "IPY_MODEL_5b604b8eb0f541c78f7d9f483c8683e4",
              "IPY_MODEL_b33367a24ff14951a910b4b5c95fc2d7",
              "IPY_MODEL_f4246d3ab4f345f8b98e1f8fe0149cbd"
            ],
            "layout": "IPY_MODEL_f8a7c59401dc4ba5b59f38a26f2d23c5"
          }
        },
        "5b604b8eb0f541c78f7d9f483c8683e4": {
          "model_module": "@jupyter-widgets/controls",
          "model_name": "HTMLModel",
          "model_module_version": "1.5.0",
          "state": {
            "_dom_classes": [],
            "_model_module": "@jupyter-widgets/controls",
            "_model_module_version": "1.5.0",
            "_model_name": "HTMLModel",
            "_view_count": null,
            "_view_module": "@jupyter-widgets/controls",
            "_view_module_version": "1.5.0",
            "_view_name": "HTMLView",
            "description": "",
            "description_tooltip": null,
            "layout": "IPY_MODEL_1cc55691df09482489515a9619de38e4",
            "placeholder": "​",
            "style": "IPY_MODEL_86a98f39268e46e29991cdcf43e0302c",
            "value": "100%"
          }
        },
        "b33367a24ff14951a910b4b5c95fc2d7": {
          "model_module": "@jupyter-widgets/controls",
          "model_name": "FloatProgressModel",
          "model_module_version": "1.5.0",
          "state": {
            "_dom_classes": [],
            "_model_module": "@jupyter-widgets/controls",
            "_model_module_version": "1.5.0",
            "_model_name": "FloatProgressModel",
            "_view_count": null,
            "_view_module": "@jupyter-widgets/controls",
            "_view_module_version": "1.5.0",
            "_view_name": "ProgressView",
            "bar_style": "success",
            "description": "",
            "description_tooltip": null,
            "layout": "IPY_MODEL_9cbd5b6d50ab469e99be5bd315377c5b",
            "max": 3041136,
            "min": 0,
            "orientation": "horizontal",
            "style": "IPY_MODEL_f7e6a2ff010d45788f90486c6a0a7fc2",
            "value": 3041136
          }
        },
        "f4246d3ab4f345f8b98e1f8fe0149cbd": {
          "model_module": "@jupyter-widgets/controls",
          "model_name": "HTMLModel",
          "model_module_version": "1.5.0",
          "state": {
            "_dom_classes": [],
            "_model_module": "@jupyter-widgets/controls",
            "_model_module_version": "1.5.0",
            "_model_name": "HTMLModel",
            "_view_count": null,
            "_view_module": "@jupyter-widgets/controls",
            "_view_module_version": "1.5.0",
            "_view_name": "HTMLView",
            "description": "",
            "description_tooltip": null,
            "layout": "IPY_MODEL_028043ac7a2a4348919edec43ea0171c",
            "placeholder": "​",
            "style": "IPY_MODEL_dd57abf0c1584ec2a5b757e769fb6fac",
            "value": " 3041136/3041136 [00:01&lt;00:00, 1977441.92it/s]"
          }
        },
        "f8a7c59401dc4ba5b59f38a26f2d23c5": {
          "model_module": "@jupyter-widgets/base",
          "model_name": "LayoutModel",
          "model_module_version": "1.2.0",
          "state": {
            "_model_module": "@jupyter-widgets/base",
            "_model_module_version": "1.2.0",
            "_model_name": "LayoutModel",
            "_view_count": null,
            "_view_module": "@jupyter-widgets/base",
            "_view_module_version": "1.2.0",
            "_view_name": "LayoutView",
            "align_content": null,
            "align_items": null,
            "align_self": null,
            "border": null,
            "bottom": null,
            "display": null,
            "flex": null,
            "flex_flow": null,
            "grid_area": null,
            "grid_auto_columns": null,
            "grid_auto_flow": null,
            "grid_auto_rows": null,
            "grid_column": null,
            "grid_gap": null,
            "grid_row": null,
            "grid_template_areas": null,
            "grid_template_columns": null,
            "grid_template_rows": null,
            "height": null,
            "justify_content": null,
            "justify_items": null,
            "left": null,
            "margin": null,
            "max_height": null,
            "max_width": null,
            "min_height": null,
            "min_width": null,
            "object_fit": null,
            "object_position": null,
            "order": null,
            "overflow": null,
            "overflow_x": null,
            "overflow_y": null,
            "padding": null,
            "right": null,
            "top": null,
            "visibility": null,
            "width": null
          }
        },
        "1cc55691df09482489515a9619de38e4": {
          "model_module": "@jupyter-widgets/base",
          "model_name": "LayoutModel",
          "model_module_version": "1.2.0",
          "state": {
            "_model_module": "@jupyter-widgets/base",
            "_model_module_version": "1.2.0",
            "_model_name": "LayoutModel",
            "_view_count": null,
            "_view_module": "@jupyter-widgets/base",
            "_view_module_version": "1.2.0",
            "_view_name": "LayoutView",
            "align_content": null,
            "align_items": null,
            "align_self": null,
            "border": null,
            "bottom": null,
            "display": null,
            "flex": null,
            "flex_flow": null,
            "grid_area": null,
            "grid_auto_columns": null,
            "grid_auto_flow": null,
            "grid_auto_rows": null,
            "grid_column": null,
            "grid_gap": null,
            "grid_row": null,
            "grid_template_areas": null,
            "grid_template_columns": null,
            "grid_template_rows": null,
            "height": null,
            "justify_content": null,
            "justify_items": null,
            "left": null,
            "margin": null,
            "max_height": null,
            "max_width": null,
            "min_height": null,
            "min_width": null,
            "object_fit": null,
            "object_position": null,
            "order": null,
            "overflow": null,
            "overflow_x": null,
            "overflow_y": null,
            "padding": null,
            "right": null,
            "top": null,
            "visibility": null,
            "width": null
          }
        },
        "86a98f39268e46e29991cdcf43e0302c": {
          "model_module": "@jupyter-widgets/controls",
          "model_name": "DescriptionStyleModel",
          "model_module_version": "1.5.0",
          "state": {
            "_model_module": "@jupyter-widgets/controls",
            "_model_module_version": "1.5.0",
            "_model_name": "DescriptionStyleModel",
            "_view_count": null,
            "_view_module": "@jupyter-widgets/base",
            "_view_module_version": "1.2.0",
            "_view_name": "StyleView",
            "description_width": ""
          }
        },
        "9cbd5b6d50ab469e99be5bd315377c5b": {
          "model_module": "@jupyter-widgets/base",
          "model_name": "LayoutModel",
          "model_module_version": "1.2.0",
          "state": {
            "_model_module": "@jupyter-widgets/base",
            "_model_module_version": "1.2.0",
            "_model_name": "LayoutModel",
            "_view_count": null,
            "_view_module": "@jupyter-widgets/base",
            "_view_module_version": "1.2.0",
            "_view_name": "LayoutView",
            "align_content": null,
            "align_items": null,
            "align_self": null,
            "border": null,
            "bottom": null,
            "display": null,
            "flex": null,
            "flex_flow": null,
            "grid_area": null,
            "grid_auto_columns": null,
            "grid_auto_flow": null,
            "grid_auto_rows": null,
            "grid_column": null,
            "grid_gap": null,
            "grid_row": null,
            "grid_template_areas": null,
            "grid_template_columns": null,
            "grid_template_rows": null,
            "height": null,
            "justify_content": null,
            "justify_items": null,
            "left": null,
            "margin": null,
            "max_height": null,
            "max_width": null,
            "min_height": null,
            "min_width": null,
            "object_fit": null,
            "object_position": null,
            "order": null,
            "overflow": null,
            "overflow_x": null,
            "overflow_y": null,
            "padding": null,
            "right": null,
            "top": null,
            "visibility": null,
            "width": null
          }
        },
        "f7e6a2ff010d45788f90486c6a0a7fc2": {
          "model_module": "@jupyter-widgets/controls",
          "model_name": "ProgressStyleModel",
          "model_module_version": "1.5.0",
          "state": {
            "_model_module": "@jupyter-widgets/controls",
            "_model_module_version": "1.5.0",
            "_model_name": "ProgressStyleModel",
            "_view_count": null,
            "_view_module": "@jupyter-widgets/base",
            "_view_module_version": "1.2.0",
            "_view_name": "StyleView",
            "bar_color": null,
            "description_width": ""
          }
        },
        "028043ac7a2a4348919edec43ea0171c": {
          "model_module": "@jupyter-widgets/base",
          "model_name": "LayoutModel",
          "model_module_version": "1.2.0",
          "state": {
            "_model_module": "@jupyter-widgets/base",
            "_model_module_version": "1.2.0",
            "_model_name": "LayoutModel",
            "_view_count": null,
            "_view_module": "@jupyter-widgets/base",
            "_view_module_version": "1.2.0",
            "_view_name": "LayoutView",
            "align_content": null,
            "align_items": null,
            "align_self": null,
            "border": null,
            "bottom": null,
            "display": null,
            "flex": null,
            "flex_flow": null,
            "grid_area": null,
            "grid_auto_columns": null,
            "grid_auto_flow": null,
            "grid_auto_rows": null,
            "grid_column": null,
            "grid_gap": null,
            "grid_row": null,
            "grid_template_areas": null,
            "grid_template_columns": null,
            "grid_template_rows": null,
            "height": null,
            "justify_content": null,
            "justify_items": null,
            "left": null,
            "margin": null,
            "max_height": null,
            "max_width": null,
            "min_height": null,
            "min_width": null,
            "object_fit": null,
            "object_position": null,
            "order": null,
            "overflow": null,
            "overflow_x": null,
            "overflow_y": null,
            "padding": null,
            "right": null,
            "top": null,
            "visibility": null,
            "width": null
          }
        },
        "dd57abf0c1584ec2a5b757e769fb6fac": {
          "model_module": "@jupyter-widgets/controls",
          "model_name": "DescriptionStyleModel",
          "model_module_version": "1.5.0",
          "state": {
            "_model_module": "@jupyter-widgets/controls",
            "_model_module_version": "1.5.0",
            "_model_name": "DescriptionStyleModel",
            "_view_count": null,
            "_view_module": "@jupyter-widgets/base",
            "_view_module_version": "1.2.0",
            "_view_name": "StyleView",
            "description_width": ""
          }
        },
        "c7955098d0084e48a17a3be66eaacf3f": {
          "model_module": "@jupyter-widgets/controls",
          "model_name": "HBoxModel",
          "model_module_version": "1.5.0",
          "state": {
            "_dom_classes": [],
            "_model_module": "@jupyter-widgets/controls",
            "_model_module_version": "1.5.0",
            "_model_name": "HBoxModel",
            "_view_count": null,
            "_view_module": "@jupyter-widgets/controls",
            "_view_module_version": "1.5.0",
            "_view_name": "HBoxView",
            "box_style": "",
            "children": [
              "IPY_MODEL_fc62cb01ad9e4c728f12471758038fe9",
              "IPY_MODEL_87dc1855fc6c49249aca64659747b5ec",
              "IPY_MODEL_7446786bdab74f26b02619ec2b4bbc32"
            ],
            "layout": "IPY_MODEL_03359d45f4c648098ccc13df07e1d1d9"
          }
        },
        "fc62cb01ad9e4c728f12471758038fe9": {
          "model_module": "@jupyter-widgets/controls",
          "model_name": "HTMLModel",
          "model_module_version": "1.5.0",
          "state": {
            "_dom_classes": [],
            "_model_module": "@jupyter-widgets/controls",
            "_model_module_version": "1.5.0",
            "_model_name": "HTMLModel",
            "_view_count": null,
            "_view_module": "@jupyter-widgets/controls",
            "_view_module_version": "1.5.0",
            "_view_name": "HTMLView",
            "description": "",
            "description_tooltip": null,
            "layout": "IPY_MODEL_f21248699a1c463a8a4790f3ffba0476",
            "placeholder": "​",
            "style": "IPY_MODEL_b6d4bcd04de540369930f7651c2f5de1",
            "value": "100%"
          }
        },
        "87dc1855fc6c49249aca64659747b5ec": {
          "model_module": "@jupyter-widgets/controls",
          "model_name": "FloatProgressModel",
          "model_module_version": "1.5.0",
          "state": {
            "_dom_classes": [],
            "_model_module": "@jupyter-widgets/controls",
            "_model_module_version": "1.5.0",
            "_model_name": "FloatProgressModel",
            "_view_count": null,
            "_view_module": "@jupyter-widgets/controls",
            "_view_module_version": "1.5.0",
            "_view_name": "ProgressView",
            "bar_style": "success",
            "description": "",
            "description_tooltip": null,
            "layout": "IPY_MODEL_0ef460f373d04ce6a985c8abb7e9fd61",
            "max": 5120,
            "min": 0,
            "orientation": "horizontal",
            "style": "IPY_MODEL_b3c5337f452e458396b8bea17c009d32",
            "value": 5120
          }
        },
        "7446786bdab74f26b02619ec2b4bbc32": {
          "model_module": "@jupyter-widgets/controls",
          "model_name": "HTMLModel",
          "model_module_version": "1.5.0",
          "state": {
            "_dom_classes": [],
            "_model_module": "@jupyter-widgets/controls",
            "_model_module_version": "1.5.0",
            "_model_name": "HTMLModel",
            "_view_count": null,
            "_view_module": "@jupyter-widgets/controls",
            "_view_module_version": "1.5.0",
            "_view_name": "HTMLView",
            "description": "",
            "description_tooltip": null,
            "layout": "IPY_MODEL_a2f3f455d3eb4576acdf2f4cb1faeecb",
            "placeholder": "​",
            "style": "IPY_MODEL_e6fe44475e1f46fc868b9646be3e069a",
            "value": " 5120/5120 [00:00&lt;00:00, 115828.50it/s]"
          }
        },
        "03359d45f4c648098ccc13df07e1d1d9": {
          "model_module": "@jupyter-widgets/base",
          "model_name": "LayoutModel",
          "model_module_version": "1.2.0",
          "state": {
            "_model_module": "@jupyter-widgets/base",
            "_model_module_version": "1.2.0",
            "_model_name": "LayoutModel",
            "_view_count": null,
            "_view_module": "@jupyter-widgets/base",
            "_view_module_version": "1.2.0",
            "_view_name": "LayoutView",
            "align_content": null,
            "align_items": null,
            "align_self": null,
            "border": null,
            "bottom": null,
            "display": null,
            "flex": null,
            "flex_flow": null,
            "grid_area": null,
            "grid_auto_columns": null,
            "grid_auto_flow": null,
            "grid_auto_rows": null,
            "grid_column": null,
            "grid_gap": null,
            "grid_row": null,
            "grid_template_areas": null,
            "grid_template_columns": null,
            "grid_template_rows": null,
            "height": null,
            "justify_content": null,
            "justify_items": null,
            "left": null,
            "margin": null,
            "max_height": null,
            "max_width": null,
            "min_height": null,
            "min_width": null,
            "object_fit": null,
            "object_position": null,
            "order": null,
            "overflow": null,
            "overflow_x": null,
            "overflow_y": null,
            "padding": null,
            "right": null,
            "top": null,
            "visibility": null,
            "width": null
          }
        },
        "f21248699a1c463a8a4790f3ffba0476": {
          "model_module": "@jupyter-widgets/base",
          "model_name": "LayoutModel",
          "model_module_version": "1.2.0",
          "state": {
            "_model_module": "@jupyter-widgets/base",
            "_model_module_version": "1.2.0",
            "_model_name": "LayoutModel",
            "_view_count": null,
            "_view_module": "@jupyter-widgets/base",
            "_view_module_version": "1.2.0",
            "_view_name": "LayoutView",
            "align_content": null,
            "align_items": null,
            "align_self": null,
            "border": null,
            "bottom": null,
            "display": null,
            "flex": null,
            "flex_flow": null,
            "grid_area": null,
            "grid_auto_columns": null,
            "grid_auto_flow": null,
            "grid_auto_rows": null,
            "grid_column": null,
            "grid_gap": null,
            "grid_row": null,
            "grid_template_areas": null,
            "grid_template_columns": null,
            "grid_template_rows": null,
            "height": null,
            "justify_content": null,
            "justify_items": null,
            "left": null,
            "margin": null,
            "max_height": null,
            "max_width": null,
            "min_height": null,
            "min_width": null,
            "object_fit": null,
            "object_position": null,
            "order": null,
            "overflow": null,
            "overflow_x": null,
            "overflow_y": null,
            "padding": null,
            "right": null,
            "top": null,
            "visibility": null,
            "width": null
          }
        },
        "b6d4bcd04de540369930f7651c2f5de1": {
          "model_module": "@jupyter-widgets/controls",
          "model_name": "DescriptionStyleModel",
          "model_module_version": "1.5.0",
          "state": {
            "_model_module": "@jupyter-widgets/controls",
            "_model_module_version": "1.5.0",
            "_model_name": "DescriptionStyleModel",
            "_view_count": null,
            "_view_module": "@jupyter-widgets/base",
            "_view_module_version": "1.2.0",
            "_view_name": "StyleView",
            "description_width": ""
          }
        },
        "0ef460f373d04ce6a985c8abb7e9fd61": {
          "model_module": "@jupyter-widgets/base",
          "model_name": "LayoutModel",
          "model_module_version": "1.2.0",
          "state": {
            "_model_module": "@jupyter-widgets/base",
            "_model_module_version": "1.2.0",
            "_model_name": "LayoutModel",
            "_view_count": null,
            "_view_module": "@jupyter-widgets/base",
            "_view_module_version": "1.2.0",
            "_view_name": "LayoutView",
            "align_content": null,
            "align_items": null,
            "align_self": null,
            "border": null,
            "bottom": null,
            "display": null,
            "flex": null,
            "flex_flow": null,
            "grid_area": null,
            "grid_auto_columns": null,
            "grid_auto_flow": null,
            "grid_auto_rows": null,
            "grid_column": null,
            "grid_gap": null,
            "grid_row": null,
            "grid_template_areas": null,
            "grid_template_columns": null,
            "grid_template_rows": null,
            "height": null,
            "justify_content": null,
            "justify_items": null,
            "left": null,
            "margin": null,
            "max_height": null,
            "max_width": null,
            "min_height": null,
            "min_width": null,
            "object_fit": null,
            "object_position": null,
            "order": null,
            "overflow": null,
            "overflow_x": null,
            "overflow_y": null,
            "padding": null,
            "right": null,
            "top": null,
            "visibility": null,
            "width": null
          }
        },
        "b3c5337f452e458396b8bea17c009d32": {
          "model_module": "@jupyter-widgets/controls",
          "model_name": "ProgressStyleModel",
          "model_module_version": "1.5.0",
          "state": {
            "_model_module": "@jupyter-widgets/controls",
            "_model_module_version": "1.5.0",
            "_model_name": "ProgressStyleModel",
            "_view_count": null,
            "_view_module": "@jupyter-widgets/base",
            "_view_module_version": "1.2.0",
            "_view_name": "StyleView",
            "bar_color": null,
            "description_width": ""
          }
        },
        "a2f3f455d3eb4576acdf2f4cb1faeecb": {
          "model_module": "@jupyter-widgets/base",
          "model_name": "LayoutModel",
          "model_module_version": "1.2.0",
          "state": {
            "_model_module": "@jupyter-widgets/base",
            "_model_module_version": "1.2.0",
            "_model_name": "LayoutModel",
            "_view_count": null,
            "_view_module": "@jupyter-widgets/base",
            "_view_module_version": "1.2.0",
            "_view_name": "LayoutView",
            "align_content": null,
            "align_items": null,
            "align_self": null,
            "border": null,
            "bottom": null,
            "display": null,
            "flex": null,
            "flex_flow": null,
            "grid_area": null,
            "grid_auto_columns": null,
            "grid_auto_flow": null,
            "grid_auto_rows": null,
            "grid_column": null,
            "grid_gap": null,
            "grid_row": null,
            "grid_template_areas": null,
            "grid_template_columns": null,
            "grid_template_rows": null,
            "height": null,
            "justify_content": null,
            "justify_items": null,
            "left": null,
            "margin": null,
            "max_height": null,
            "max_width": null,
            "min_height": null,
            "min_width": null,
            "object_fit": null,
            "object_position": null,
            "order": null,
            "overflow": null,
            "overflow_x": null,
            "overflow_y": null,
            "padding": null,
            "right": null,
            "top": null,
            "visibility": null,
            "width": null
          }
        },
        "e6fe44475e1f46fc868b9646be3e069a": {
          "model_module": "@jupyter-widgets/controls",
          "model_name": "DescriptionStyleModel",
          "model_module_version": "1.5.0",
          "state": {
            "_model_module": "@jupyter-widgets/controls",
            "_model_module_version": "1.5.0",
            "_model_name": "DescriptionStyleModel",
            "_view_count": null,
            "_view_module": "@jupyter-widgets/base",
            "_view_module_version": "1.2.0",
            "_view_name": "StyleView",
            "description_width": ""
          }
        }
      }
    }
  },
  "cells": [
    {
      "cell_type": "markdown",
      "source": [
        "# KMNIST Pytorch Classification"
      ],
      "metadata": {
        "id": "CuppO-8rNA1f"
      }
    },
    {
      "cell_type": "markdown",
      "source": [
        "import packages"
      ],
      "metadata": {
        "id": "qe6OzXYHLHSi"
      }
    },
    {
      "cell_type": "code",
      "execution_count": null,
      "metadata": {
        "id": "pwAHnkyXGxm_"
      },
      "outputs": [],
      "source": [
        "# import the necessary packages\n",
        "from torch.nn import Module # Pytorch class to implement architecture\n",
        "from torch.nn import Conv2d # Convolution layer implementation of pytorch\n",
        "from torch.nn import Linear # Fully connected layer\n",
        "from torch.nn import MaxPool2d # Reduce the dimension\n",
        "from torch.nn import ReLU # Activation Function\n",
        "from torch.nn import LogSoftmax # For returning the softmax classifier prediction\n",
        "from torch.optim import Adam # Optimizer\n",
        "from torch.utils.data import DataLoader # Pytorch data loading utility\n",
        "from torchvision.transforms import ToTensor # preprocessing function that converts input data into a PyTorch tensor\n",
        "from torchvision.datasets import KMNIST # The dataset\n",
        "from sklearn.metrics import classification_report # For displaying a detailed classification report\n",
        "from torch.utils.data import random_split # train/test split\n",
        "from torch import flatten # flatten the output of a multi-dimensional volume\n",
        "from torch import nn # Neural network\n",
        "import matplotlib.pyplot as plt # Visulization\n",
        "import numpy as np # Numerical Python\n",
        "import torch # Pytorch\n",
        "import time  # To check the training time"
      ]
    },
    {
      "cell_type": "markdown",
      "source": [
        "# **Creating model**\n",
        "\n"
      ],
      "metadata": {
        "id": "u3k_y544G3ya"
      }
    },
    {
      "cell_type": "code",
      "source": [
        "class CustomModel(Module):\n",
        "\tdef __init__(self, numChannels, classes):\n",
        "\t\t# call the parent constructor\n",
        "\t\tsuper(CustomModel, self).__init__()\n",
        "\n",
        "\t\t# initialize our first set of CONV => RELU => POOL layers. \n",
        "\t\t# Our first CONV layer learns a total of 20 filters, each of which are 5×5. \n",
        "\t\t# A ReLU activation function is then applied, followed by a 2×2 max-pooling layer with a 2×2 stride to reduce the spatial dimensions of our input image.\n",
        "\t\tself.conv1 = Conv2d(in_channels=numChannels, out_channels=20,\n",
        "\t\t\tkernel_size=(5, 5))\n",
        "\t\tself.relu1 = ReLU()  # Non-linear activation function\n",
        "\t\tself.maxpool1 = MaxPool2d(kernel_size=(2, 2), stride=(2, 2))\n",
        "\n",
        "\t\t# initialize second set of CONV => RELU => POOL layers\n",
        "\t\tself.conv2 = Conv2d(in_channels=20, out_channels=50,\n",
        "\t\t\tkernel_size=(5, 5))\n",
        "\t\tself.relu2 = ReLU()\n",
        "\t\tself.maxpool2 = MaxPool2d(kernel_size=(2, 2), stride=(2, 2))\n",
        "\n",
        "\t\t# initialize our first and only set of fully connected layers. \n",
        "\t\t# We define the number of inputs to the layer (800) along with our desired number of output nodes (500). \n",
        "\t\t# A ReLu activation follows the FC layer.\n",
        "\t\tself.fc1 = Linear(in_features=800, out_features=500)\n",
        "\t\tself.relu3 = ReLU()\n",
        "\n",
        "\t\t# initialize softmax classifier. The number of in_features is set to 500, which is the output dimensionality from the previous layer. \n",
        "\t\t# We then apply LogSoftmax such that we can obtain predicted probabilities during evaluation.\n",
        "\t\tself.fc2 = Linear(in_features=500, out_features=classes)\n",
        "\t\tself.logSoftmax = LogSoftmax(dim=1)\n",
        "\n",
        "\tdef forward(self, x):\n",
        "\t\t# pass the input through our first set of CONV => RELU =>\n",
        "\t\t# POOL layers\n",
        "\t\tx = self.conv1(x)\n",
        "\t\tx = self.relu1(x)\n",
        "\t\tx = self.maxpool1(x)\n",
        "\n",
        "\t\t# pass the output from the previous layer through the second\n",
        "\t\t# set of CONV => RELU => POOL layers\n",
        "\t\tx = self.conv2(x)\n",
        "\t\tx = self.relu2(x)\n",
        "\t\tx = self.maxpool2(x)\n",
        "\n",
        "\t\t# flatten the output from the previous layer and pass it\n",
        "\t\t# through our only set of FC => RELU layers\n",
        "\t\tx = flatten(x, 1)\n",
        "\t\tx = self.fc1(x)\n",
        "\t\tx = self.relu3(x)\n",
        "\n",
        "\t\t# pass the output to our softmax classifier to get our output (Classifier)\n",
        "\t\t# predictions\n",
        "\t\tx = self.fc2(x)\n",
        "\t\toutput = self.logSoftmax(x)\n",
        "\n",
        "\t\t# return the output predictions\n",
        "\t\treturn output"
      ],
      "metadata": {
        "id": "6Ee0UMEwGzym"
      },
      "execution_count": null,
      "outputs": []
    },
    {
      "cell_type": "markdown",
      "source": [
        "# **Loading Data**\n"
      ],
      "metadata": {
        "id": "tHDl3g-gG8s4"
      }
    },
    {
      "cell_type": "code",
      "source": [
        "# define training hyperparameters\n",
        "INIT_LR = 1e-3 # initial learning rate\n",
        "BATCH_SIZE = 64 # initial Batch Size\n",
        "EPOCHS = 20 # initial Epoch\n",
        "\n",
        "# define the train and val splits\n",
        "TRAIN_SPLIT = 0.75 # 75% of training data\n",
        "VAL_SPLIT = 1 - TRAIN_SPLIT # 25% of validation data\n",
        "\n",
        "# set the device we will be using to train the model\n",
        "device = torch.device(\"cuda\" if torch.cuda.is_available() else \"cpu\") "
      ],
      "metadata": {
        "id": "5UEPnMesGzwf"
      },
      "execution_count": null,
      "outputs": []
    },
    {
      "cell_type": "code",
      "source": [
        "# load the KMNIST dataset\n",
        "print(\"[INFO] loading the KMNIST dataset...\")\n",
        "trainData = KMNIST(root=\"data\", train=True, download=True,\n",
        "\ttransform=ToTensor())\n",
        "testData = KMNIST(root=\"data\", train=False, download=True,\n",
        "\ttransform=ToTensor())\n",
        "\n",
        "# calculate the train/validation split\n",
        "print(\"[INFO] generating the train/validation split...\")\n",
        "numTrainSamples = int(len(trainData) * TRAIN_SPLIT)\n",
        "numValSamples = int(len(trainData) * VAL_SPLIT)\n",
        "(trainData, valData) = random_split(trainData,\n",
        "\t[numTrainSamples, numValSamples],\n",
        "\tgenerator=torch.Generator().manual_seed(42))"
      ],
      "metadata": {
        "colab": {
          "base_uri": "https://localhost:8080/",
          "height": 457,
          "referenced_widgets": [
            "96ac481bf3844497b02bed92fe35b276",
            "e62959fb47cf448f97077243d81c02f5",
            "fd9136a95d7640c1aa36b6881603750c",
            "dfb950f6c96740db9ba7b9c8f3b0db8c",
            "9a2a6fafa9e84179bbba054d533e1053",
            "49d121a81c614377b61ab75ca20ec86e",
            "0a398542b62d448cb18594bd6097a97a",
            "ca0b7d1a70da4edbbda7108d56108764",
            "3b2ee6fa4a8d424cafbe49626cc25d83",
            "b893707fed864d10bf1b2ca97d24874c",
            "41e0f3b286214315923c9a57b2f72ff8",
            "b04af0496ab14cafa5d4ca492de6ff50",
            "ee707e224a374625ad8300010b529f31",
            "95f3c131afe6408e80c088a9f377ab3c",
            "8cfdb2a3eaf741d89598962c7a8b5654",
            "3052035ea33a4b33aaa2aae9755bcfb6",
            "593c7e51cdbf46f19251589e5fd81100",
            "d91cf4fbe24d4aa4b66a40b5e7ee58ea",
            "3b5288617c144be790b66ab1b32b1c16",
            "9426d3607dbc4a67843e4c3c906ca3f8",
            "3a2e3ffb4ce74bb799a77b91ab446dd7",
            "8e28a2b3f335431da04ee54527e59d56",
            "9f09bd6aa2b34a1cbdba657a483e4c7a",
            "5b604b8eb0f541c78f7d9f483c8683e4",
            "b33367a24ff14951a910b4b5c95fc2d7",
            "f4246d3ab4f345f8b98e1f8fe0149cbd",
            "f8a7c59401dc4ba5b59f38a26f2d23c5",
            "1cc55691df09482489515a9619de38e4",
            "86a98f39268e46e29991cdcf43e0302c",
            "9cbd5b6d50ab469e99be5bd315377c5b",
            "f7e6a2ff010d45788f90486c6a0a7fc2",
            "028043ac7a2a4348919edec43ea0171c",
            "dd57abf0c1584ec2a5b757e769fb6fac",
            "c7955098d0084e48a17a3be66eaacf3f",
            "fc62cb01ad9e4c728f12471758038fe9",
            "87dc1855fc6c49249aca64659747b5ec",
            "7446786bdab74f26b02619ec2b4bbc32",
            "03359d45f4c648098ccc13df07e1d1d9",
            "f21248699a1c463a8a4790f3ffba0476",
            "b6d4bcd04de540369930f7651c2f5de1",
            "0ef460f373d04ce6a985c8abb7e9fd61",
            "b3c5337f452e458396b8bea17c009d32",
            "a2f3f455d3eb4576acdf2f4cb1faeecb",
            "e6fe44475e1f46fc868b9646be3e069a"
          ]
        },
        "id": "MEaElaYHGzuI",
        "outputId": "82c574f2-921b-46c7-a962-05136f321f25"
      },
      "execution_count": null,
      "outputs": [
        {
          "output_type": "stream",
          "name": "stdout",
          "text": [
            "[INFO] loading the KMNIST dataset...\n",
            "Downloading http://codh.rois.ac.jp/kmnist/dataset/kmnist/train-images-idx3-ubyte.gz\n",
            "Downloading http://codh.rois.ac.jp/kmnist/dataset/kmnist/train-images-idx3-ubyte.gz to data/KMNIST/raw/train-images-idx3-ubyte.gz\n"
          ]
        },
        {
          "output_type": "display_data",
          "data": {
            "text/plain": [
              "  0%|          | 0/18165135 [00:00<?, ?it/s]"
            ],
            "application/vnd.jupyter.widget-view+json": {
              "version_major": 2,
              "version_minor": 0,
              "model_id": "96ac481bf3844497b02bed92fe35b276"
            }
          },
          "metadata": {}
        },
        {
          "output_type": "stream",
          "name": "stdout",
          "text": [
            "Extracting data/KMNIST/raw/train-images-idx3-ubyte.gz to data/KMNIST/raw\n",
            "\n",
            "Downloading http://codh.rois.ac.jp/kmnist/dataset/kmnist/train-labels-idx1-ubyte.gz\n",
            "Downloading http://codh.rois.ac.jp/kmnist/dataset/kmnist/train-labels-idx1-ubyte.gz to data/KMNIST/raw/train-labels-idx1-ubyte.gz\n"
          ]
        },
        {
          "output_type": "display_data",
          "data": {
            "text/plain": [
              "  0%|          | 0/29497 [00:00<?, ?it/s]"
            ],
            "application/vnd.jupyter.widget-view+json": {
              "version_major": 2,
              "version_minor": 0,
              "model_id": "b04af0496ab14cafa5d4ca492de6ff50"
            }
          },
          "metadata": {}
        },
        {
          "output_type": "stream",
          "name": "stdout",
          "text": [
            "Extracting data/KMNIST/raw/train-labels-idx1-ubyte.gz to data/KMNIST/raw\n",
            "\n",
            "Downloading http://codh.rois.ac.jp/kmnist/dataset/kmnist/t10k-images-idx3-ubyte.gz\n",
            "Downloading http://codh.rois.ac.jp/kmnist/dataset/kmnist/t10k-images-idx3-ubyte.gz to data/KMNIST/raw/t10k-images-idx3-ubyte.gz\n"
          ]
        },
        {
          "output_type": "display_data",
          "data": {
            "text/plain": [
              "  0%|          | 0/3041136 [00:00<?, ?it/s]"
            ],
            "application/vnd.jupyter.widget-view+json": {
              "version_major": 2,
              "version_minor": 0,
              "model_id": "9f09bd6aa2b34a1cbdba657a483e4c7a"
            }
          },
          "metadata": {}
        },
        {
          "output_type": "stream",
          "name": "stdout",
          "text": [
            "Extracting data/KMNIST/raw/t10k-images-idx3-ubyte.gz to data/KMNIST/raw\n",
            "\n",
            "Downloading http://codh.rois.ac.jp/kmnist/dataset/kmnist/t10k-labels-idx1-ubyte.gz\n",
            "Downloading http://codh.rois.ac.jp/kmnist/dataset/kmnist/t10k-labels-idx1-ubyte.gz to data/KMNIST/raw/t10k-labels-idx1-ubyte.gz\n"
          ]
        },
        {
          "output_type": "display_data",
          "data": {
            "text/plain": [
              "  0%|          | 0/5120 [00:00<?, ?it/s]"
            ],
            "application/vnd.jupyter.widget-view+json": {
              "version_major": 2,
              "version_minor": 0,
              "model_id": "c7955098d0084e48a17a3be66eaacf3f"
            }
          },
          "metadata": {}
        },
        {
          "output_type": "stream",
          "name": "stdout",
          "text": [
            "Extracting data/KMNIST/raw/t10k-labels-idx1-ubyte.gz to data/KMNIST/raw\n",
            "\n",
            "[INFO] generating the train/validation split...\n"
          ]
        }
      ]
    },
    {
      "cell_type": "code",
      "source": [
        "# initialize the train, validation, and test data loaders\n",
        "trainDataLoader = DataLoader(trainData, shuffle=True,\n",
        "\tbatch_size=BATCH_SIZE)\n",
        "valDataLoader = DataLoader(valData, batch_size=BATCH_SIZE)\n",
        "testDataLoader = DataLoader(testData, batch_size=BATCH_SIZE)\n",
        "\n",
        "# calculate steps per epoch for training and validation set\n",
        "trainSteps = len(trainDataLoader.dataset) // BATCH_SIZE\n",
        "valSteps = len(valDataLoader.dataset) // BATCH_SIZE"
      ],
      "metadata": {
        "id": "5ktQmUhiGzry"
      },
      "execution_count": null,
      "outputs": []
    },
    {
      "cell_type": "markdown",
      "source": [
        "# **Training and Validation**"
      ],
      "metadata": {
        "id": "dRfRWiU-NmYv"
      }
    },
    {
      "cell_type": "code",
      "source": [
        "# initialize the CustomModel\n",
        "print(\"[INFO] initializing the CustomModel ...\")\n",
        "model = CustomModel(\n",
        "\tnumChannels=1,\n",
        "\tclasses=len(trainData.dataset.classes)).to(device)\n",
        "\n",
        "# initialize our optimizer and loss function\n",
        "opt = Adam(model.parameters(), lr=INIT_LR)\n",
        "lossFn = nn.NLLLoss()\n",
        "\n",
        "# initialize a dictionary to store training history\n",
        "H = {\n",
        "\t\"train_loss\": [],\n",
        "\t\"train_acc\": [],\n",
        "\t\"val_loss\": [],\n",
        "\t\"val_acc\": []\n",
        "}"
      ],
      "metadata": {
        "colab": {
          "base_uri": "https://localhost:8080/"
        },
        "id": "00TO22E5GzpQ",
        "outputId": "2324b0a4-db65-46fa-e973-13ebbe9456cf"
      },
      "execution_count": null,
      "outputs": [
        {
          "output_type": "stream",
          "name": "stdout",
          "text": [
            "[INFO] initializing the CustomModel ...\n"
          ]
        }
      ]
    },
    {
      "cell_type": "code",
      "source": [
        "# measure how long training is going to take\n",
        "print(\"[INFO] training the network...\")\n",
        "startTime = time.time()\n",
        "\n",
        "# loop over our epochs\n",
        "for e in range(0, EPOCHS):\n",
        "\t# set the model in training mode\n",
        "\tmodel.train()\n",
        "\n",
        "\t# initialize the total training and validation loss\n",
        "\ttotalTrainLoss = 0\n",
        "\ttotalValLoss = 0\n",
        "\n",
        "\t# initialize the number of correct predictions in the training\n",
        "\t# and validation step\n",
        "\ttrainCorrect = 0\n",
        "\tvalCorrect = 0\n",
        "\n",
        "\t# loop over the training set\n",
        "\tfor (x, y) in trainDataLoader:\n",
        "\t\t# send the input to the device\n",
        "\t\t(x, y) = (x.to(device), y.to(device))\n",
        "\n",
        "\t\t# perform a forward pass and calculate the training loss\n",
        "\t\tpred = model(x)\n",
        "\t\tloss = lossFn(pred, y)\n",
        "\n",
        "\t\t# zero out the gradients, perform the backpropagation step,\n",
        "\t\t# and update the weights\n",
        "\t\topt.zero_grad()\n",
        "\t\tloss.backward()\n",
        "\t\topt.step()\n",
        "\n",
        "\t\t# add the loss to the total training loss so far and\n",
        "\t\t# calculate the number of correct predictions\n",
        "\t\ttotalTrainLoss += loss\n",
        "\t\ttrainCorrect += (pred.argmax(1) == y).type(\n",
        "\t\t\ttorch.float).sum().item()\n",
        "\n",
        "\t# switch off autograd for evaluation\n",
        "\twith torch.no_grad():\n",
        "\t\t# set the model in evaluation mode\n",
        "\t\tmodel.eval()\n",
        "\n",
        "\t\t# loop over the validation set\n",
        "\t\tfor (x, y) in valDataLoader:\n",
        "\t\t\t# send the input to the device\n",
        "\t\t\t(x, y) = (x.to(device), y.to(device))\n",
        "\n",
        "\t\t\t# make the predictions and calculate the validation loss\n",
        "\t\t\tpred = model(x)\n",
        "\t\t\ttotalValLoss += lossFn(pred, y)\n",
        "\n",
        "\t\t\t# calculate the number of correct predictions\n",
        "\t\t\tvalCorrect += (pred.argmax(1) == y).type(\n",
        "\t\t\t\ttorch.float).sum().item()\n",
        "\n",
        "\t# calculate the average training and validation loss\n",
        "\tavgTrainLoss = totalTrainLoss / trainSteps\n",
        "\tavgValLoss = totalValLoss / valSteps\n",
        "\n",
        "\t# calculate the training and validation accuracy\n",
        "\ttrainCorrect = trainCorrect / len(trainDataLoader.dataset)\n",
        "\tvalCorrect = valCorrect / len(valDataLoader.dataset)\n",
        "\n",
        "\t# update our training history\n",
        "\tH[\"train_loss\"].append(avgTrainLoss.cpu().detach().numpy())\n",
        "\tH[\"train_acc\"].append(trainCorrect)\n",
        "\tH[\"val_loss\"].append(avgValLoss.cpu().detach().numpy())\n",
        "\tH[\"val_acc\"].append(valCorrect)\n",
        "\n",
        "\t# print the model training and validation information\n",
        "\tprint(\"[INFO] EPOCH: {}/{}\".format(e + 1, EPOCHS))\n",
        "\tprint(\"Train loss: {:.6f}, Train accuracy: {:.4f}\".format(\n",
        "\t\tavgTrainLoss, trainCorrect))\n",
        "\tprint(\"Val loss: {:.6f}, Val accuracy: {:.4f}\\n\".format(\n",
        "\t\tavgValLoss, valCorrect))\n",
        "\n",
        "# finish measuring how long training took\n",
        "endTime = time.time()\n",
        "print(\"[INFO] total time taken to train the model: {:.2f}s\".format(\n",
        "\tendTime - startTime))"
      ],
      "metadata": {
        "colab": {
          "base_uri": "https://localhost:8080/"
        },
        "id": "TErqtziuGzlK",
        "outputId": "87462300-52fe-425a-87c1-4bbeab0026b1"
      },
      "execution_count": null,
      "outputs": [
        {
          "output_type": "stream",
          "name": "stdout",
          "text": [
            "[INFO] training the network...\n",
            "[INFO] EPOCH: 1/20\n",
            "Train loss: 0.350423, Train accuracy: 0.8908\n",
            "Val loss: 0.135900, Val accuracy: 0.9577\n",
            "\n",
            "[INFO] EPOCH: 2/20\n",
            "Train loss: 0.096421, Train accuracy: 0.9702\n",
            "Val loss: 0.087137, Val accuracy: 0.9737\n",
            "\n",
            "[INFO] EPOCH: 3/20\n",
            "Train loss: 0.054830, Train accuracy: 0.9826\n",
            "Val loss: 0.079415, Val accuracy: 0.9777\n",
            "\n",
            "[INFO] EPOCH: 4/20\n",
            "Train loss: 0.036605, Train accuracy: 0.9886\n",
            "Val loss: 0.084674, Val accuracy: 0.9753\n",
            "\n",
            "[INFO] EPOCH: 5/20\n",
            "Train loss: 0.025451, Train accuracy: 0.9918\n",
            "Val loss: 0.065389, Val accuracy: 0.9825\n",
            "\n",
            "[INFO] EPOCH: 6/20\n",
            "Train loss: 0.018804, Train accuracy: 0.9936\n",
            "Val loss: 0.078943, Val accuracy: 0.9803\n",
            "\n",
            "[INFO] EPOCH: 7/20\n",
            "Train loss: 0.012959, Train accuracy: 0.9954\n",
            "Val loss: 0.077443, Val accuracy: 0.9816\n",
            "\n",
            "[INFO] EPOCH: 8/20\n",
            "Train loss: 0.012463, Train accuracy: 0.9958\n",
            "Val loss: 0.072058, Val accuracy: 0.9821\n",
            "\n",
            "[INFO] EPOCH: 9/20\n",
            "Train loss: 0.010169, Train accuracy: 0.9968\n",
            "Val loss: 0.073116, Val accuracy: 0.9852\n",
            "\n",
            "[INFO] EPOCH: 10/20\n",
            "Train loss: 0.009793, Train accuracy: 0.9970\n",
            "Val loss: 0.083868, Val accuracy: 0.9811\n",
            "\n",
            "[INFO] EPOCH: 11/20\n",
            "Train loss: 0.008289, Train accuracy: 0.9974\n",
            "Val loss: 0.096636, Val accuracy: 0.9785\n",
            "\n",
            "[INFO] EPOCH: 12/20\n",
            "Train loss: 0.009555, Train accuracy: 0.9972\n",
            "Val loss: 0.086250, Val accuracy: 0.9836\n",
            "\n",
            "[INFO] EPOCH: 13/20\n",
            "Train loss: 0.005728, Train accuracy: 0.9982\n",
            "Val loss: 0.095012, Val accuracy: 0.9811\n",
            "\n",
            "[INFO] EPOCH: 14/20\n",
            "Train loss: 0.005755, Train accuracy: 0.9983\n",
            "Val loss: 0.099390, Val accuracy: 0.9816\n",
            "\n",
            "[INFO] EPOCH: 15/20\n",
            "Train loss: 0.008175, Train accuracy: 0.9974\n",
            "Val loss: 0.094942, Val accuracy: 0.9796\n",
            "\n",
            "[INFO] EPOCH: 16/20\n",
            "Train loss: 0.004341, Train accuracy: 0.9982\n",
            "Val loss: 0.104724, Val accuracy: 0.9818\n",
            "\n",
            "[INFO] EPOCH: 17/20\n",
            "Train loss: 0.007688, Train accuracy: 0.9975\n",
            "Val loss: 0.092948, Val accuracy: 0.9825\n",
            "\n",
            "[INFO] EPOCH: 18/20\n",
            "Train loss: 0.004104, Train accuracy: 0.9988\n",
            "Val loss: 0.097790, Val accuracy: 0.9827\n",
            "\n",
            "[INFO] EPOCH: 19/20\n",
            "Train loss: 0.004082, Train accuracy: 0.9988\n",
            "Val loss: 0.115179, Val accuracy: 0.9803\n",
            "\n",
            "[INFO] EPOCH: 20/20\n",
            "Train loss: 0.007805, Train accuracy: 0.9976\n",
            "Val loss: 0.101954, Val accuracy: 0.9825\n",
            "\n",
            "[INFO] total time taken to train the model: 883.90s\n"
          ]
        }
      ]
    },
    {
      "cell_type": "code",
      "source": [
        "# plot the training loss and accuracy\n",
        "plt.style.use(\"ggplot\")\n",
        "plt.figure()\n",
        "plt.plot(H[\"train_loss\"], label=\"train_loss\")\n",
        "plt.plot(H[\"val_loss\"], label=\"val_loss\")\n",
        "plt.plot(H[\"train_acc\"], label=\"train_acc\")\n",
        "plt.plot(H[\"val_acc\"], label=\"val_acc\")\n",
        "plt.title(\"Training Loss and Accuracy on Dataset\")\n",
        "plt.xlabel(\"Epoch #\")\n",
        "plt.ylabel(\"Loss/Accuracy\")\n",
        "plt.legend(loc=\"lower left\")\n",
        "plt.show()"
      ],
      "metadata": {
        "colab": {
          "base_uri": "https://localhost:8080/",
          "height": 299
        },
        "id": "fxBtldZF7GC8",
        "outputId": "e48353ac-0c2e-4e25-a636-0d525be37b1f"
      },
      "execution_count": null,
      "outputs": [
        {
          "output_type": "display_data",
          "data": {
            "text/plain": [
              "<Figure size 432x288 with 1 Axes>"
            ],
            "image/png": "[encoded data removed]"
          },
          "metadata": {}
        }
      ]
    },
    {
      "cell_type": "markdown",
      "source": [
        "The plot shows our training history plot is smooth, demonstrating there is little/no overfitting happening."
      ],
      "metadata": {
        "id": "tkI2woMgCuNc"
      }
    },
    {
      "cell_type": "markdown",
      "source": [
        "Model achieves 99 % accuracy on the train set and 98% accuracy on the validation set. We can now work on the test set"
      ],
      "metadata": {
        "id": "ZRMBaa99LEOJ"
      }
    },
    {
      "cell_type": "markdown",
      "source": [
        "# **Final test accuracy**"
      ],
      "metadata": {
        "id": "Tmd7y3BR6vxS"
      }
    },
    {
      "cell_type": "code",
      "source": [
        "# we can now evaluate the network on the test set\n",
        "print(\"[INFO] evaluating network...\")\n",
        "\n",
        "# turn off autograd for testing evaluation\n",
        "with torch.no_grad():\n",
        "\t# set the model in evaluation mode\n",
        "\tmodel.eval()\n",
        "\t\n",
        "\t# initialize a list to store our predictions\n",
        "\tpreds = []\n",
        "\n",
        "\t# loop over the test set\n",
        "\tfor (x, y) in testDataLoader:\n",
        "\t\t# send the input to the device\n",
        "\t\tx = x.to(device)\n",
        "\n",
        "\t\t# make the predictions and add them to the list\n",
        "\t\tpred = model(x)\n",
        "\t\tpreds.extend(pred.argmax(axis=1).cpu().numpy())\n",
        "\n",
        "# generate a classification report\n",
        "print(classification_report(testData.targets.cpu().numpy(),\n",
        "\tnp.array(preds), target_names=testData.classes))"
      ],
      "metadata": {
        "colab": {
          "base_uri": "https://localhost:8080/"
        },
        "id": "0gOKN9LoGzcy",
        "outputId": "3c72fea7-0f3e-43e3-bc7d-e2be8426cb9d"
      },
      "execution_count": null,
      "outputs": [
        {
          "output_type": "stream",
          "name": "stdout",
          "text": [
            "[INFO] evaluating network...\n",
            "              precision    recall  f1-score   support\n",
            "\n",
            "           o       0.96      0.96      0.96      1000\n",
            "          ki       0.96      0.93      0.95      1000\n",
            "          su       0.92      0.92      0.92      1000\n",
            "         tsu       0.95      0.98      0.96      1000\n",
            "          na       0.94      0.94      0.94      1000\n",
            "          ha       0.96      0.95      0.96      1000\n",
            "          ma       0.96      0.96      0.96      1000\n",
            "          ya       0.97      0.95      0.96      1000\n",
            "          re       0.94      0.97      0.96      1000\n",
            "          wo       0.96      0.97      0.96      1000\n",
            "\n",
            "    accuracy                           0.95     10000\n",
            "   macro avg       0.95      0.95      0.95     10000\n",
            "weighted avg       0.95      0.95      0.95     10000\n",
            "\n"
          ]
        }
      ]
    },
    {
      "cell_type": "markdown",
      "source": [
        "95% accuracy achieved on test set, a relativley high level of accuracy considering the difficulty of Hiragana characters."
      ],
      "metadata": {
        "id": "gYbrr4IUL3AX"
      }
    },
    {
      "cell_type": "code",
      "source": [
        "# serialize the model to disk\n",
        "torch.save(model, \"model.pth\")"
      ],
      "metadata": {
        "id": "tjrcIzYGMJ2H"
      },
      "execution_count": null,
      "outputs": []
    },
    {
      "cell_type": "markdown",
      "source": [
        "**implementing model prediction**"
      ],
      "metadata": {
        "id": "kX2luOYeMSus"
      }
    },
    {
      "cell_type": "code",
      "source": [
        "# set the numpy seed for better reproducibility\n",
        "import numpy as np\n",
        "np.random.seed(42)\n",
        "# import the necessary packages\n",
        "from torch.utils.data import DataLoader\n",
        "from torch.utils.data import Subset\n",
        "from torchvision.transforms import ToTensor\n",
        "from torchvision.datasets import KMNIST\n",
        "import argparse\n",
        "import imutils\n",
        "import torch\n",
        "import cv2"
      ],
      "metadata": {
        "id": "Fo5ybQtlMfcB"
      },
      "execution_count": null,
      "outputs": []
    },
    {
      "cell_type": "code",
      "source": [
        "# set the device we will be using to test the model\n",
        "device = torch.device(\"cuda\" if torch.cuda.is_available() else \"cpu\")\n",
        "# load the KMNIST dataset and randomly grab 10 data points\n",
        "print(\"[INFO] loading the KMNIST test dataset...\")\n",
        "testData = KMNIST(root=\"data\", train=False, download=True,\n",
        "\ttransform=ToTensor())\n",
        "idxs = np.random.choice(range(0, len(testData)), size=(10,))\n",
        "testData = Subset(testData, idxs)\n",
        "# initialize the test data loader\n",
        "testDataLoader = DataLoader(testData, batch_size=1)\n",
        "# load the model and set it to evaluation mode\n",
        "model = torch.load('/content/model.pth')\n",
        "print(testDataLoader)\n",
        "model.eval()"
      ],
      "metadata": {
        "colab": {
          "base_uri": "https://localhost:8080/"
        },
        "id": "Ig5uWDfcMmKZ",
        "outputId": "f670e010-ec7d-42a5-c8d8-719d2fc0a091"
      },
      "execution_count": null,
      "outputs": [
        {
          "output_type": "stream",
          "name": "stdout",
          "text": [
            "[INFO] loading the KMNIST test dataset...\n",
            "<torch.utils.data.dataloader.DataLoader object at 0x7f5466b82890>\n"
          ]
        },
        {
          "output_type": "execute_result",
          "data": {
            "text/plain": [
              "CustomModel(\n",
              "  (conv1): Conv2d(1, 20, kernel_size=(5, 5), stride=(1, 1))\n",
              "  (relu1): ReLU()\n",
              "  (maxpool1): MaxPool2d(kernel_size=(2, 2), stride=(2, 2), padding=0, dilation=1, ceil_mode=False)\n",
              "  (conv2): Conv2d(20, 50, kernel_size=(5, 5), stride=(1, 1))\n",
              "  (relu2): ReLU()\n",
              "  (maxpool2): MaxPool2d(kernel_size=(2, 2), stride=(2, 2), padding=0, dilation=1, ceil_mode=False)\n",
              "  (fc1): Linear(in_features=800, out_features=500, bias=True)\n",
              "  (relu3): ReLU()\n",
              "  (fc2): Linear(in_features=500, out_features=10, bias=True)\n",
              "  (logSoftmax): LogSoftmax(dim=1)\n",
              ")"
            ]
          },
          "metadata": {},
          "execution_count": 14
        }
      ]
    },
    {
      "cell_type": "code",
      "source": [
        "from google.colab.patches import cv2_imshow\n",
        "with torch.no_grad():\n",
        "  for (image, label) in testDataLoader:\n",
        "    # grab the original image and ground truth label\n",
        "    origImage = image.numpy().squeeze(axis=(0, 1))\n",
        "    gtLabel = testData.dataset.classes[label.numpy()[0]]\n",
        "    # send the input to the device and make predictions on it\n",
        "    image = image.to(device)\n",
        "    pred = model(image)\n",
        "    # find the class label index with the largest corresponding\n",
        "\t\t# probability\n",
        "    idx = pred.argmax(axis=1).cpu().numpy()[0]\n",
        "    predLabel = testData.dataset.classes[idx]\n",
        "    result = True if gtLabel == predLabel else False\n",
        "    print(\"original lavel: \", gtLabel , \" Predicted level: \", predLabel, \"Result: \", result)"
      ],
      "metadata": {
        "colab": {
          "base_uri": "https://localhost:8080/"
        },
        "id": "MOUxgiWmMnVJ",
        "outputId": "33079550-3469-4994-dc82-6fc8cbd45df2"
      },
      "execution_count": null,
      "outputs": [
        {
          "output_type": "stream",
          "name": "stdout",
          "text": [
            "original lavel:  ki  Predicted level:  ki Result:  True\n",
            "original lavel:  ki  Predicted level:  ki Result:  True\n",
            "original lavel:  ki  Predicted level:  ki Result:  True\n",
            "original lavel:  ha  Predicted level:  ha Result:  True\n",
            "original lavel:  tsu  Predicted level:  tsu Result:  True\n",
            "original lavel:  ya  Predicted level:  ya Result:  True\n",
            "original lavel:  tsu  Predicted level:  tsu Result:  True\n",
            "original lavel:  na  Predicted level:  na Result:  True\n",
            "original lavel:  ki  Predicted level:  ki Result:  True\n",
            "original lavel:  tsu  Predicted level:  tsu Result:  True\n"
          ]
        }
      ]
    }
  ]
}